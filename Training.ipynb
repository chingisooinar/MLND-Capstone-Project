{
 "cells": [
  {
   "cell_type": "markdown",
   "metadata": {
    "id": "9rTXQcLDAAkj"
   },
   "source": [
    "# **Install Dataset**"
   ]
  },
  {
   "cell_type": "code",
   "execution_count": null,
   "metadata": {
    "colab": {
     "base_uri": "https://localhost:8080/"
    },
    "executionInfo": {
     "elapsed": 112610,
     "status": "ok",
     "timestamp": 1629857793819,
     "user": {
      "displayName": "Chingis Oinar",
      "photoUrl": "https://lh3.googleusercontent.com/a-/AOh14GiuIXWP1lLcUutI5q4ubKyAu4gpGxkhg1y_VjGfLA=s64",
      "userId": "08847250784175438051"
     },
     "user_tz": -540
    },
    "id": "VI7uZcEm3r1A",
    "outputId": "25658af9-2146-4b44-f765-6668c0a5f2da"
   },
   "outputs": [],
   "source": [
    "!wget http://efrosgans.eecs.berkeley.edu/pix2pix/datasets/maps.tar.gz"
   ]
  },
  {
   "cell_type": "code",
   "execution_count": null,
   "metadata": {
    "colab": {
     "base_uri": "https://localhost:8080/"
    },
    "executionInfo": {
     "elapsed": 2923,
     "status": "ok",
     "timestamp": 1629858431878,
     "user": {
      "displayName": "Chingis Oinar",
      "photoUrl": "https://lh3.googleusercontent.com/a-/AOh14GiuIXWP1lLcUutI5q4ubKyAu4gpGxkhg1y_VjGfLA=s64",
      "userId": "08847250784175438051"
     },
     "user_tz": -540
    },
    "id": "zvXHvAHT31Hs",
    "outputId": "d6616668-1d7b-4a22-f31e-7793fe5c08fd"
   },
   "outputs": [],
   "source": [
    "!tar -xvf maps.tar.gz"
   ]
  },
  {
   "cell_type": "code",
   "execution_count": null,
   "metadata": {},
   "outputs": [],
   "source": [
    "!pip install sklego torch_snippets \n"
   ]
  },
  {
   "cell_type": "markdown",
   "metadata": {
    "id": "Qle1_sfdAKsV"
   },
   "source": [
    "# Import **packages**"
   ]
  },
  {
   "cell_type": "code",
   "execution_count": null,
   "metadata": {
    "colab": {
     "base_uri": "https://localhost:8080/"
    },
    "executionInfo": {
     "elapsed": 6614,
     "status": "ok",
     "timestamp": 1629858439564,
     "user": {
      "displayName": "Chingis Oinar",
      "photoUrl": "https://lh3.googleusercontent.com/a-/AOh14GiuIXWP1lLcUutI5q4ubKyAu4gpGxkhg1y_VjGfLA=s64",
      "userId": "08847250784175438051"
     },
     "user_tz": -540
    },
    "id": "j62XPxBD4tv1",
    "outputId": "04b57f16-053d-45b0-edd3-576cbea2e966"
   },
   "outputs": [],
   "source": [
    "\n",
    "import itertools\n",
    "from PIL import Image\n",
    "from torch_snippets import *\n",
    "from torchvision.utils import make_grid\n"
   ]
  },
  {
   "cell_type": "code",
   "execution_count": null,
   "metadata": {
    "executionInfo": {
     "elapsed": 251,
     "status": "ok",
     "timestamp": 1629858445659,
     "user": {
      "displayName": "Chingis Oinar",
      "photoUrl": "https://lh3.googleusercontent.com/a-/AOh14GiuIXWP1lLcUutI5q4ubKyAu4gpGxkhg1y_VjGfLA=s64",
      "userId": "08847250784175438051"
     },
     "user_tz": -540
    },
    "id": "lfUhv4xZ4__4"
   },
   "outputs": [],
   "source": [
    "from glob import glob\n",
    "train_set = glob('maps/train/*.jpg')\n",
    "val_set = glob('maps/val/*.jpg')"
   ]
  },
  {
   "cell_type": "code",
   "execution_count": null,
   "metadata": {
    "colab": {
     "base_uri": "https://localhost:8080/"
    },
    "executionInfo": {
     "elapsed": 7,
     "status": "ok",
     "timestamp": 1629858446078,
     "user": {
      "displayName": "Chingis Oinar",
      "photoUrl": "https://lh3.googleusercontent.com/a-/AOh14GiuIXWP1lLcUutI5q4ubKyAu4gpGxkhg1y_VjGfLA=s64",
      "userId": "08847250784175438051"
     },
     "user_tz": -540
    },
    "id": "SJjn8DVe5XeE",
    "outputId": "9fe0a0d0-17ec-4dd1-de43-65fae78e607a"
   },
   "outputs": [],
   "source": [
    "print(f'Train set size: {train_set.__len__()}\\n Val set size: {val_set.__len__()}')"
   ]
  },
  {
   "cell_type": "markdown",
   "metadata": {
    "id": "NWMJuseyAS_6"
   },
   "source": [
    "# **Define Dataset class**"
   ]
  },
  {
   "cell_type": "code",
   "execution_count": null,
   "metadata": {
    "executionInfo": {
     "elapsed": 6,
     "status": "ok",
     "timestamp": 1629858446078,
     "user": {
      "displayName": "Chingis Oinar",
      "photoUrl": "https://lh3.googleusercontent.com/a-/AOh14GiuIXWP1lLcUutI5q4ubKyAu4gpGxkhg1y_VjGfLA=s64",
      "userId": "08847250784175438051"
     },
     "user_tz": -540
    },
    "id": "e3dR8maO5kun"
   },
   "outputs": [],
   "source": [
    "import numpy as np\n",
    "import os\n",
    "from torch.utils.data import Dataset, DataLoader\n",
    "import albumentations as A\n",
    "from albumentations.pytorch import ToTensorV2\n",
    "both_transform = A.Compose(\n",
    "    [A.Resize(width=256, height=256),A.HorizontalFlip(p=0.5)], additional_targets={\"image0\": \"image\"},\n",
    ")\n",
    "transform_only_input = A.Compose(\n",
    "    [\n",
    "        A.ColorJitter(p=0.2),\n",
    "        A.Normalize(mean=[0.5, 0.5, 0.5], std=[0.5, 0.5, 0.5], max_pixel_value=255.0,),\n",
    "        ToTensorV2(),\n",
    "    ]\n",
    ")\n",
    "\n",
    "transform_only_mask = A.Compose(\n",
    "    [\n",
    "        A.Normalize(mean=[0.5, 0.5, 0.5], std=[0.5, 0.5, 0.5], max_pixel_value=255.0,),\n",
    "        ToTensorV2(),\n",
    "    ]\n",
    ")\n",
    "class MapDataset(Dataset):\n",
    "    def __init__(self, images):\n",
    "\n",
    "        self.list_files = images\n",
    "\n",
    "    def __len__(self):\n",
    "        return len(self.list_files)\n",
    "\n",
    "    def __getitem__(self, index):\n",
    "        img_path = self.list_files[index]\n",
    "        image = np.array(Image.open(img_path))\n",
    "        input_image = image[:, :600, :]\n",
    "        target_image = image[:, 600:, :]\n",
    "\n",
    "        augmentations = both_transform(image=input_image, image0=target_image)\n",
    "        input_image = augmentations[\"image\"]\n",
    "        target_image = augmentations[\"image0\"]\n",
    "\n",
    "        input_image = transform_only_input(image=input_image)[\"image\"]\n",
    "        target_image = transform_only_mask(image=target_image)[\"image\"]\n",
    "\n",
    "        return input_image, target_image"
   ]
  },
  {
   "cell_type": "code",
   "execution_count": null,
   "metadata": {
    "executionInfo": {
     "elapsed": 2,
     "status": "ok",
     "timestamp": 1629858446344,
     "user": {
      "displayName": "Chingis Oinar",
      "photoUrl": "https://lh3.googleusercontent.com/a-/AOh14GiuIXWP1lLcUutI5q4ubKyAu4gpGxkhg1y_VjGfLA=s64",
      "userId": "08847250784175438051"
     },
     "user_tz": -540
    },
    "id": "zx4BJZzZ-lUX"
   },
   "outputs": [],
   "source": [
    "train_dataset = MapDataset(train_set)\n",
    "train_loader = DataLoader(train_dataset, batch_size=1, shuffle=True)\n",
    "val_dataset = MapDataset(val_set)\n",
    "val_loader = DataLoader(val_dataset, batch_size=1, shuffle=True)"
   ]
  },
  {
   "cell_type": "markdown",
   "metadata": {
    "id": "nZK1U_1NAXff"
   },
   "source": [
    "# **Visualize some examples**"
   ]
  },
  {
   "cell_type": "code",
   "execution_count": null,
   "metadata": {
    "colab": {
     "base_uri": "https://localhost:8080/",
     "height": 589
    },
    "executionInfo": {
     "elapsed": 2630,
     "status": "ok",
     "timestamp": 1629858448972,
     "user": {
      "displayName": "Chingis Oinar",
      "photoUrl": "https://lh3.googleusercontent.com/a-/AOh14GiuIXWP1lLcUutI5q4ubKyAu4gpGxkhg1y_VjGfLA=s64",
      "userId": "08847250784175438051"
     },
     "user_tz": -540
    },
    "id": "xzz6Okr8-uqL",
    "outputId": "628b3944-a784-4697-b88f-07329066ed56"
   },
   "outputs": [],
   "source": [
    "images = []\n",
    "for i_ in range(16):\n",
    "  samples_input, samples_target = next(iter(train_loader))\n",
    "  samples = torch.cat([samples_input, samples_target],axis=0)\n",
    "  images.append(samples)\n",
    "images = torch.cat(images,axis=0)\n",
    "images = make_grid((images * 127.5) + 127.5).permute(1,2,0)\n",
    "show(images)"
   ]
  },
  {
   "cell_type": "markdown",
   "metadata": {
    "id": "-lmTfKC3FXjz"
   },
   "source": [
    "# **Define Models**"
   ]
  },
  {
   "cell_type": "code",
   "execution_count": null,
   "metadata": {
    "colab": {
     "base_uri": "https://localhost:8080/",
     "height": 35
    },
    "executionInfo": {
     "elapsed": 19,
     "status": "ok",
     "timestamp": 1629858448972,
     "user": {
      "displayName": "Chingis Oinar",
      "photoUrl": "https://lh3.googleusercontent.com/a-/AOh14GiuIXWP1lLcUutI5q4ubKyAu4gpGxkhg1y_VjGfLA=s64",
      "userId": "08847250784175438051"
     },
     "user_tz": -540
    },
    "id": "fwzQgqZKGC9j",
    "outputId": "6536f6b1-69a3-46cb-8f31-df150610fa36"
   },
   "outputs": [],
   "source": [
    "device = 'cuda' if torch.cuda.is_available() else 'cpu'\n",
    "device"
   ]
  },
  {
   "cell_type": "code",
   "execution_count": null,
   "metadata": {},
   "outputs": [],
   "source": [
    "!pwd"
   ]
  },
  {
   "cell_type": "code",
   "execution_count": null,
   "metadata": {},
   "outputs": [],
   "source": [
    "import os\n",
    "os.environ[\"CUDA_VISIBLE_DEVICES\"]=\"0\""
   ]
  },
  {
   "cell_type": "code",
   "execution_count": null,
   "metadata": {
    "executionInfo": {
     "elapsed": 2377,
     "status": "ok",
     "timestamp": 1629858451335,
     "user": {
      "displayName": "Chingis Oinar",
      "photoUrl": "https://lh3.googleusercontent.com/a-/AOh14GiuIXWP1lLcUutI5q4ubKyAu4gpGxkhg1y_VjGfLA=s64",
      "userId": "08847250784175438051"
     },
     "user_tz": -540
    },
    "id": "B-dd9In5A7OO"
   },
   "outputs": [],
   "source": [
    "from generator import Generator\n",
    "from discriminator import Discriminator\n",
    "generator = Generator(in_channels=3, features=64).to(device)\n",
    "discriminator = Discriminator(in_channels=3).to(device)"
   ]
  },
  {
   "cell_type": "code",
   "execution_count": null,
   "metadata": {
    "colab": {
     "base_uri": "https://localhost:8080/"
    },
    "executionInfo": {
     "elapsed": 10,
     "status": "ok",
     "timestamp": 1629858451335,
     "user": {
      "displayName": "Chingis Oinar",
      "photoUrl": "https://lh3.googleusercontent.com/a-/AOh14GiuIXWP1lLcUutI5q4ubKyAu4gpGxkhg1y_VjGfLA=s64",
      "userId": "08847250784175438051"
     },
     "user_tz": -540
    },
    "id": "853wAOZcsvp1",
    "outputId": "c2f2c5eb-73ce-46dd-be2e-40c966f86296"
   },
   "outputs": [],
   "source": [
    "generator"
   ]
  },
  {
   "cell_type": "code",
   "execution_count": null,
   "metadata": {},
   "outputs": [],
   "source": [
    "def gram_matrix(input):\n",
    "    \"\"\"\n",
    "    A gram matrix is the result of multiplying a given matrix by its transposed matrix. \n",
    "    \"\"\"\n",
    "    a, b, c, d = input.size()  # a=batch size(=1)\n",
    "    # b=number of feature maps\n",
    "    # (c,d)=dimensions of a f. map (N=c*d)\n",
    "\n",
    "    features = input.view(a * b, c * d)  # resise F_XL into \\hat F_XL\n",
    "\n",
    "    G = torch.mm(features, features.t())  # compute the gram product\n",
    "\n",
    "    # we 'normalize' the values of the gram matrix\n",
    "    # by dividing by the number of element in each feature maps.\n",
    "    return G.div(a * b * c * d)\n",
    "\n",
    "class StyleLoss(nn.Module):\n",
    "\n",
    "    def __init__(self):\n",
    "        super(StyleLoss, self).__init__()\n",
    "        \n",
    "\n",
    "    def forward(self, input_map, target_map):\n",
    "        G = gram_matrix(input_map)\n",
    "        target = gram_matrix(target_map).detach()\n",
    "        loss = F.mse_loss(G, target)\n",
    "        return loss"
   ]
  },
  {
   "cell_type": "code",
   "execution_count": null,
   "metadata": {
    "executionInfo": {
     "elapsed": 10,
     "status": "ok",
     "timestamp": 1629858451336,
     "user": {
      "displayName": "Chingis Oinar",
      "photoUrl": "https://lh3.googleusercontent.com/a-/AOh14GiuIXWP1lLcUutI5q4ubKyAu4gpGxkhg1y_VjGfLA=s64",
      "userId": "08847250784175438051"
     },
     "user_tz": -540
    },
    "id": "KvZ1gH03G-Xf"
   },
   "outputs": [],
   "source": [
    "opt_disc = optim.Adam(discriminator.parameters(), lr=2e-4, betas=(0.5, 0.999),)\n",
    "opt_gen = optim.Adam(generator.parameters(), lr=2e-4, betas=(0.5, 0.999))\n",
    "BCE = nn.BCEWithLogitsLoss() # BCEWithLogits\n",
    "L1_LOSS = nn.L1Loss()\n",
    "Style_loss = StyleLoss()"
   ]
  },
  {
   "cell_type": "code",
   "execution_count": null,
   "metadata": {
    "executionInfo": {
     "elapsed": 9,
     "status": "ok",
     "timestamp": 1629858451336,
     "user": {
      "displayName": "Chingis Oinar",
      "photoUrl": "https://lh3.googleusercontent.com/a-/AOh14GiuIXWP1lLcUutI5q4ubKyAu4gpGxkhg1y_VjGfLA=s64",
      "userId": "08847250784175438051"
     },
     "user_tz": -540
    },
    "id": "xtBABsLoHtXt"
   },
   "outputs": [],
   "source": [
    "g_scaler = torch.cuda.amp.GradScaler()\n",
    "d_scaler = torch.cuda.amp.GradScaler()"
   ]
  },
  {
   "cell_type": "code",
   "execution_count": null,
   "metadata": {
    "executionInfo": {
     "elapsed": 9,
     "status": "ok",
     "timestamp": 1629858451336,
     "user": {
      "displayName": "Chingis Oinar",
      "photoUrl": "https://lh3.googleusercontent.com/a-/AOh14GiuIXWP1lLcUutI5q4ubKyAu4gpGxkhg1y_VjGfLA=s64",
      "userId": "08847250784175438051"
     },
     "user_tz": -540
    },
    "id": "P3E42ZtcH36U"
   },
   "outputs": [],
   "source": [
    "def weights_init_normal(m):\n",
    "    classname = m.__class__.__name__\n",
    "    if classname.find(\"Conv\") != -1:\n",
    "        torch.nn.init.normal_(m.weight.data, 0.0, 0.02)\n",
    "    elif classname.find(\"BatchNorm2d\") != -1:\n",
    "        torch.nn.init.normal_(m.weight.data, 1.0, 0.02)\n",
    "        torch.nn.init.constant_(m.bias.data, 0.0)\n",
    "      \n",
    "def discriminator_train_step(real_src, real_trg, fake_trg):\n",
    "    #discriminator.train()\n",
    "    with torch.cuda.amp.autocast():\n",
    "        prediction_real = discriminator(real_src, real_trg)\n",
    "        error_real = BCE(prediction_real, torch.ones_like(prediction_real))\n",
    "\n",
    "        prediction_fake = discriminator(real_src, fake_trg.detach())\n",
    "        error_fake = BCE(prediction_fake, torch.zeros_like(prediction_real))\n",
    "        D_loss = (error_real + error_fake) / 2\n",
    "\n",
    "    opt_disc.zero_grad()\n",
    "    d_scaler.scale(D_loss).backward()\n",
    "    d_scaler.step(opt_disc)\n",
    "    d_scaler.update()\n",
    "    return D_loss\n",
    "\n",
    "def generator_train_step(real_src, real_trg, fake_trg):\n",
    "    #discriminator.train()\n",
    "    with torch.cuda.amp.autocast():\n",
    "        prediction = discriminator(real_src, fake_trg)\n",
    "\n",
    "        loss_GAN = BCE(prediction, torch.ones_like(prediction))\n",
    "        loss_pixel = L1_LOSS(fake_trg, real_trg)\n",
    "        loss_G = loss_GAN + lambda_pixel * loss_pixel\n",
    "        if Style_loss is not None:\n",
    "            style_loss = Style_loss(fake_trg, real_trg)\n",
    "            loss_G += style_loss\n",
    "\n",
    "    opt_gen.zero_grad()\n",
    "    g_scaler.scale(loss_G).backward()\n",
    "    g_scaler.step(opt_gen)\n",
    "    g_scaler.update()\n",
    "\n",
    "    return loss_G"
   ]
  },
  {
   "cell_type": "code",
   "execution_count": null,
   "metadata": {
    "colab": {
     "base_uri": "https://localhost:8080/"
    },
    "executionInfo": {
     "elapsed": 9,
     "status": "ok",
     "timestamp": 1629858451337,
     "user": {
      "displayName": "Chingis Oinar",
      "photoUrl": "https://lh3.googleusercontent.com/a-/AOh14GiuIXWP1lLcUutI5q4ubKyAu4gpGxkhg1y_VjGfLA=s64",
      "userId": "08847250784175438051"
     },
     "user_tz": -540
    },
    "id": "XeEzov0fs73T",
    "outputId": "c69776d0-1491-4dea-91fb-587c36f9cd57"
   },
   "outputs": [],
   "source": [
    "generator.apply(weights_init_normal)\n",
    "discriminator.apply(weights_init_normal)"
   ]
  },
  {
   "cell_type": "code",
   "execution_count": null,
   "metadata": {
    "colab": {
     "base_uri": "https://localhost:8080/",
     "height": 231
    },
    "executionInfo": {
     "elapsed": 276,
     "status": "error",
     "timestamp": 1629873919679,
     "user": {
      "displayName": "Chingis Oinar",
      "photoUrl": "https://lh3.googleusercontent.com/a-/AOh14GiuIXWP1lLcUutI5q4ubKyAu4gpGxkhg1y_VjGfLA=s64",
      "userId": "08847250784175438051"
     },
     "user_tz": -540
    },
    "id": "UCLS8oNm8Pkw",
    "outputId": "f0ab3434-4cc9-4815-fa39-30e64ef35a75"
   },
   "outputs": [],
   "source": [
    "epochs = 200\n",
    "lambda_pixel = 100\n",
    "\n",
    "log = Report(epochs)\n",
    "\n",
    "for epoch in range(epochs):\n",
    "    N = len(train_loader)\n",
    "    generator.train()\n",
    "    discriminator.train()\n",
    "    for bx, batch in enumerate(train_loader):\n",
    "        real_src, real_trg = batch\n",
    "        real_src, real_trg = real_src.to(device), real_trg.to(device)\n",
    "        fake_trg = generator(real_src)\n",
    "        \n",
    "        errD = discriminator_train_step(real_src, real_trg, fake_trg)\n",
    "        errG = generator_train_step(real_src, real_trg, fake_trg)\n",
    "        log.record(pos=epoch+(1+bx)/N, errD=errD.item(), errG=errG.item(), end='\\r')\n",
    "    log.report_avgs(epoch+1)\n",
    "    if epoch % 10 == 0:\n",
    "      generator.eval()\n",
    "      with torch.no_grad():\n",
    "        images = []\n",
    "        for i_ in range(16):\n",
    "          data = next(iter(val_loader))\n",
    "          real_src, real_trg = data\n",
    "          real_src, real_trg = real_src.to(device), real_trg.to(device)\n",
    "          fake_trg = generator(real_src)\n",
    "          samples = torch.cat([real_src, fake_trg],axis=0)\n",
    "          images.append(samples)\n",
    "        images = torch.cat(images,axis=0)\n",
    "        images = make_grid((images * 127.5) + 127.5).permute(1,2,0)\n",
    "        show(images)"
   ]
  },
  {
   "cell_type": "code",
   "execution_count": null,
   "metadata": {
    "id": "nri5ZDmWb58T"
   },
   "outputs": [],
   "source": [
    "torch.save(generator, 'generator.pt')"
   ]
  },
  {
   "cell_type": "code",
   "execution_count": null,
   "metadata": {},
   "outputs": [],
   "source": [
    "torch.save(discriminator, 'discriminator.pt')"
   ]
  },
  {
   "cell_type": "code",
   "execution_count": null,
   "metadata": {},
   "outputs": [],
   "source": []
  }
 ],
 "metadata": {
  "accelerator": "TPU",
  "colab": {
   "authorship_tag": "ABX9TyPRFzZlJ7W4iv7m/23GZQCS",
   "mount_file_id": "1_3P03JBTHnR_EUAwBhq80GCk4kDB-bB9",
   "name": "Untitled0.ipynb",
   "provenance": []
  },
  "kernelspec": {
   "display_name": "Python 3",
   "language": "python",
   "name": "python3"
  },
  "language_info": {
   "codemirror_mode": {
    "name": "ipython",
    "version": 3
   },
   "file_extension": ".py",
   "mimetype": "text/x-python",
   "name": "python",
   "nbconvert_exporter": "python",
   "pygments_lexer": "ipython3",
   "version": "3.8.10"
  }
 },
 "nbformat": 4,
 "nbformat_minor": 4
}
